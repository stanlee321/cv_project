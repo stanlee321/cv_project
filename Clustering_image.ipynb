{
 "cells": [
  {
   "cell_type": "code",
   "execution_count": 13,
   "metadata": {
    "collapsed": false
   },
   "outputs": [
    {
     "name": "stdout",
     "output_type": "stream",
     "text": [
      "[[  37.47271347   36.61295319   35.18230438]\n",
      " [  94.41620636   66.52335358   65.24900055]\n",
      " [ 107.3690567    88.31797028   88.85131836]]\n"
     ]
    },
    {
     "data": {
      "image/png": "[encoded data removed]",
      "text/plain": [
       "<matplotlib.figure.Figure at 0x222246e2048>"
      ]
     },
     "metadata": {},
     "output_type": "display_data"
    }
   ],
   "source": [
    "\"\"\" CLUSTERING \"\"\"\n",
    "import numpy as np\n",
    "from PIL import Image, ImageDraw\n",
    "from scipy.cluster.vq import *\n",
    "from scipy.misc import imresize\n",
    "import matplotlib.pyplot as plt\n",
    "%matplotlib inline\n",
    "\n",
    "steps = 50\n",
    "\n",
    "im = np.array(Image.open('map.jpg'))\n",
    "dx = im.shape[0] // steps\n",
    "dy = im.shape[1] // steps\n",
    "\n",
    "# CCompute color Features for each region\n",
    "\n",
    "features = []\n",
    "\n",
    "for x in range(steps):\n",
    "    for y in range(steps):\n",
    "        R = np.mean(im[x*dx:(x+1)*dx, y*dy:(y+1)*dy,0])\n",
    "        G = np.mean(im[x*dx:(x+1)*dx, y*dy:(y+1)*dy,1])\n",
    "        B = np.mean(im[x*dx:(x+1)*dx, y*dy:(y+1)*dy,2])\n",
    "        features.append([R,G,B])\n",
    "features = np.array(features,'f') # Make into array\n",
    "\n",
    "# CLusters\n",
    "\n",
    "centroids, variance = kmeans(features,3)\n",
    "print(centroids)\n",
    "code, distance = vq(features, centroids)\n",
    "# create image with cluster labels\n",
    "codeim = code.reshape(steps, steps)\n",
    "codeim = imresize(codeim, im.shape[:2], interp='nearest')\n",
    "\n",
    "plt.figure()\n",
    "plt.imshow(codeim)\n",
    "plt.show()"
   ]
  },
  {
   "cell_type": "code",
   "execution_count": 26,
   "metadata": {
    "collapsed": false
   },
   "outputs": [
    {
     "data": {
      "text/plain": [
       "(3, 3)"
      ]
     },
     "execution_count": 26,
     "metadata": {},
     "output_type": "execute_result"
    }
   ],
   "source": [
    "centroids.shape"
   ]
  },
  {
   "cell_type": "code",
   "execution_count": 16,
   "metadata": {
    "collapsed": false
   },
   "outputs": [
    {
     "data": {
      "text/plain": [
       "(240, 320, 3)"
      ]
     },
     "execution_count": 16,
     "metadata": {},
     "output_type": "execute_result"
    }
   ],
   "source": [
    "im.shape"
   ]
  },
  {
   "cell_type": "code",
   "execution_count": 15,
   "metadata": {
    "collapsed": false
   },
   "outputs": [
    {
     "data": {
      "text/plain": [
       "(2500, 3)"
      ]
     },
     "execution_count": 15,
     "metadata": {},
     "output_type": "execute_result"
    }
   ],
   "source": [
    "features.shape"
   ]
  },
  {
   "cell_type": "code",
   "execution_count": 19,
   "metadata": {
    "collapsed": false
   },
   "outputs": [],
   "source": [
    "h, w = im.shape[:2]\n",
    "y, x = np.mgrid[step/2:h:step, step/2:w:step].reshape(2,-1)\n",
    "y = np.int32(y)\n",
    "x = np.int32(x)\n",
    "\n",
    "#fx, fy = flow[y,x].T\n",
    "fx, fy = 0.4,0.1\n",
    "lines = np.vstack([x, y, x+fx, y+fy]).T.reshape(-1, 2, 2)"
   ]
  },
  {
   "cell_type": "code",
   "execution_count": 20,
   "metadata": {
    "collapsed": false
   },
   "outputs": [
    {
     "data": {
      "text/plain": [
       "(30, 2, 2)"
      ]
     },
     "execution_count": 20,
     "metadata": {},
     "output_type": "execute_result"
    }
   ],
   "source": [
    "lines.shape"
   ]
  },
  {
   "cell_type": "code",
   "execution_count": 24,
   "metadata": {
    "collapsed": false
   },
   "outputs": [
    {
     "data": {
      "text/plain": [
       "array([[ 25. ,  25. ],\n",
       "       [ 25.4,  25.1]])"
      ]
     },
     "execution_count": 24,
     "metadata": {},
     "output_type": "execute_result"
    }
   ],
   "source": [
    "lines[0]"
   ]
  }
 ],
 "metadata": {
  "anaconda-cloud": {},
  "kernelspec": {
   "display_name": "Python [default]",
   "language": "python",
   "name": "python3"
  },
  "language_info": {
   "codemirror_mode": {
    "name": "ipython",
    "version": 3
   },
   "file_extension": ".py",
   "mimetype": "text/x-python",
   "name": "python",
   "nbconvert_exporter": "python",
   "pygments_lexer": "ipython3",
   "version": "3.5.2"
  }
 },
 "nbformat": 4,
 "nbformat_minor": 1
}
